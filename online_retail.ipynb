{
 "cells": [
  {
   "cell_type": "markdown",
   "metadata": {},
   "source": [
    "#### Untuk import module pandas "
   ]
  },
  {
   "cell_type": "code",
   "execution_count": 1,
   "metadata": {},
   "outputs": [],
   "source": [
    "import pandas as pd"
   ]
  },
  {
   "cell_type": "markdown",
   "metadata": {},
   "source": [
    "#### Ini untuk membaca file CSV"
   ]
  },
  {
   "cell_type": "code",
   "execution_count": 2,
   "metadata": {},
   "outputs": [
    {
     "name": "stdout",
     "output_type": "stream",
     "text": [
      "       InvoiceNo StockCode                          Description  Quantity  \\\n",
      "0         536365    85123A   WHITE HANGING HEART T-LIGHT HOLDER         6   \n",
      "1         536365     71053                  WHITE METAL LANTERN         6   \n",
      "2         536365    84406B       CREAM CUPID HEARTS COAT HANGER         8   \n",
      "3         536365    84029G  KNITTED UNION FLAG HOT WATER BOTTLE         6   \n",
      "4         536365    84029E       RED WOOLLY HOTTIE WHITE HEART.         6   \n",
      "...          ...       ...                                  ...       ...   \n",
      "541904    581587     22613          PACK OF 20 SPACEBOY NAPKINS        12   \n",
      "541905    581587     22899         CHILDREN'S APRON DOLLY GIRL          6   \n",
      "541906    581587     23254        CHILDRENS CUTLERY DOLLY GIRL          4   \n",
      "541907    581587     23255      CHILDRENS CUTLERY CIRCUS PARADE         4   \n",
      "541908    581587     22138        BAKING SET 9 PIECE RETROSPOT          3   \n",
      "\n",
      "           InvoiceDate UnitPrice  CustomerID         Country  \n",
      "0       01/12/10 08.26      2,55     17850.0  United Kingdom  \n",
      "1       01/12/10 08.26      3,39     17850.0  United Kingdom  \n",
      "2       01/12/10 08.26      2,75     17850.0  United Kingdom  \n",
      "3       01/12/10 08.26      3,39     17850.0  United Kingdom  \n",
      "4       01/12/10 08.26      3,39     17850.0  United Kingdom  \n",
      "...                ...       ...         ...             ...  \n",
      "541904  09/12/11 12.50      0,85     12680.0          France  \n",
      "541905  09/12/11 12.50       2,1     12680.0          France  \n",
      "541906  09/12/11 12.50      4,15     12680.0          France  \n",
      "541907  09/12/11 12.50      4,15     12680.0          France  \n",
      "541908  09/12/11 12.50      4,95     12680.0          France  \n",
      "\n",
      "[541909 rows x 8 columns]\n"
     ]
    }
   ],
   "source": [
    "data = pd.read_csv('online_retail.csv', delimiter=';')\n",
    "\n",
    "print(data)"
   ]
  },
  {
   "cell_type": "code",
   "execution_count": 3,
   "metadata": {},
   "outputs": [
    {
     "name": "stdout",
     "output_type": "stream",
     "text": [
      "       InvoiceNo StockCode                          Description  Quantity  \\\n",
      "0         536365    85123A   WHITE HANGING HEART T-LIGHT HOLDER         6   \n",
      "1         536365     71053                  WHITE METAL LANTERN         6   \n",
      "2         536365    84406B       CREAM CUPID HEARTS COAT HANGER         8   \n",
      "3         536365    84029G  KNITTED UNION FLAG HOT WATER BOTTLE         6   \n",
      "4         536365    84029E       RED WOOLLY HOTTIE WHITE HEART.         6   \n",
      "...          ...       ...                                  ...       ...   \n",
      "541904    581587     22613          PACK OF 20 SPACEBOY NAPKINS        12   \n",
      "541905    581587     22899         CHILDREN'S APRON DOLLY GIRL          6   \n",
      "541906    581587     23254        CHILDRENS CUTLERY DOLLY GIRL          4   \n",
      "541907    581587     23255      CHILDRENS CUTLERY CIRCUS PARADE         4   \n",
      "541908    581587     22138        BAKING SET 9 PIECE RETROSPOT          3   \n",
      "\n",
      "       InvoiceDate  UnitPrice  CustomerID         Country  total_price  \n",
      "0         01/12/10       2.55     17850.0  United Kingdom        15.30  \n",
      "1         01/12/10       3.39     17850.0  United Kingdom        20.34  \n",
      "2         01/12/10       2.75     17850.0  United Kingdom        22.00  \n",
      "3         01/12/10       3.39     17850.0  United Kingdom        20.34  \n",
      "4         01/12/10       3.39     17850.0  United Kingdom        20.34  \n",
      "...            ...        ...         ...             ...          ...  \n",
      "541904    09/12/11       0.85     12680.0          France        10.20  \n",
      "541905    09/12/11       2.10     12680.0          France        12.60  \n",
      "541906    09/12/11       4.15     12680.0          France        16.60  \n",
      "541907    09/12/11       4.15     12680.0          France        16.60  \n",
      "541908    09/12/11       4.95     12680.0          France        14.85  \n",
      "\n",
      "[541909 rows x 9 columns]\n"
     ]
    }
   ],
   "source": [
    "data['Quantity'] = data['Quantity'].astype(int)\n",
    "data['UnitPrice'] = data['UnitPrice'].str.replace(',', '.').astype(float)\n",
    "\n",
    "data['total_price'] = data['Quantity'] * data['UnitPrice']\n",
    "data['InvoiceDate'] = data['InvoiceDate'].str.split().str[0]\n",
    "\n",
    "\n",
    "print(data)"
   ]
  },
  {
   "cell_type": "code",
   "execution_count": 4,
   "metadata": {},
   "outputs": [
    {
     "name": "stdout",
     "output_type": "stream",
     "text": [
      "            total_price\n",
      "CustomerID             \n",
      "12346.0            0.00\n",
      "12347.0         4310.00\n",
      "12348.0         1797.24\n",
      "12349.0         1757.55\n",
      "12350.0          334.40\n",
      "...                 ...\n",
      "18280.0          180.60\n",
      "18281.0           80.82\n",
      "18282.0          176.60\n",
      "18283.0         2094.88\n",
      "18287.0         1837.28\n",
      "\n",
      "[4372 rows x 1 columns]\n",
      "             total_price\n",
      "InvoiceDate             \n",
      "01/02/11        28433.22\n",
      "01/03/11        25471.71\n",
      "01/04/11        24391.78\n",
      "01/05/11         6964.66\n",
      "01/06/11        20191.20\n",
      "...                  ...\n",
      "31/03/11        31004.08\n",
      "31/05/11        21967.96\n",
      "31/07/11        33486.36\n",
      "31/08/11        16118.00\n",
      "31/10/11        48475.45\n",
      "\n",
      "[305 rows x 1 columns]\n",
      "                      InvoiceNo\n",
      "Country                        \n",
      "Australia                  1259\n",
      "Austria                     401\n",
      "Bahrain                      19\n",
      "Belgium                    2069\n",
      "Brazil                       32\n",
      "Canada                      151\n",
      "Channel Islands             758\n",
      "Cyprus                      622\n",
      "Czech Republic               30\n",
      "Denmark                     389\n",
      "EIRE                       8196\n",
      "European Community           61\n",
      "Finland                     695\n",
      "France                     8557\n",
      "Germany                    9495\n",
      "Greece                      146\n",
      "Hong Kong                   288\n",
      "Iceland                     182\n",
      "Israel                      297\n",
      "Italy                       803\n",
      "Japan                       358\n",
      "Lebanon                      45\n",
      "Lithuania                    35\n",
      "Malta                       127\n",
      "Netherlands                2371\n",
      "Norway                     1086\n",
      "Poland                      341\n",
      "Portugal                   1519\n",
      "RSA                          58\n",
      "Saudi Arabia                 10\n",
      "Singapore                   229\n",
      "Spain                      2533\n",
      "Sweden                      462\n",
      "Switzerland                2002\n",
      "USA                         291\n",
      "United Arab Emirates         68\n",
      "United Kingdom           495478\n",
      "Unspecified                 446\n"
     ]
    }
   ],
   "source": [
    "customer_spend = data.groupby(by='CustomerID').agg({'total_price': 'sum'})\n",
    "daily_revenue = data.groupby(by='InvoiceDate').agg({'total_price': 'sum'})\n",
    "country_sales = data.groupby(by='Country').agg({'InvoiceNo': 'count'})\n",
    "\n",
    "print(customer_spend)\n",
    "print(daily_revenue)\n",
    "print(country_sales)"
   ]
  },
  {
   "cell_type": "code",
   "execution_count": 5,
   "metadata": {},
   "outputs": [],
   "source": [
    "customer_spend.to_csv('output/customer_spend.csv')\n",
    "daily_revenue.to_csv('output/daily_revenue.csv')\n",
    "country_sales.to_csv('output/country_sales.csv')"
   ]
  }
 ],
 "metadata": {
  "kernelspec": {
   "display_name": "Python 3",
   "language": "python",
   "name": "python3"
  },
  "language_info": {
   "codemirror_mode": {
    "name": "ipython",
    "version": 3
   },
   "file_extension": ".py",
   "mimetype": "text/x-python",
   "name": "python",
   "nbconvert_exporter": "python",
   "pygments_lexer": "ipython3",
   "version": "3.11.5"
  },
  "orig_nbformat": 4
 },
 "nbformat": 4,
 "nbformat_minor": 2
}
